{
 "cells": [
  {
   "cell_type": "code",
   "execution_count": 1,
   "id": "d009dfd9-0f80-41b7-a001-d3883e03ef69",
   "metadata": {},
   "outputs": [],
   "source": [
    "import random\n",
    "import matplotlib.pyplot as plt\n",
    "# YOU ARE NOT ALLOWED TO IMPORT ANY OTHER LIBRARY PACKAGE\n",
    "random.seed(821)"
   ]
  },
  {
   "cell_type": "markdown",
   "id": "98df37f0-09f9-4c96-8e5d-f7f8305cc284",
   "metadata": {
    "tags": []
   },
   "source": [
    "# Theory Part (40 Marks)"
   ]
  },
  {
   "cell_type": "markdown",
   "id": "34501a03-4898-4e2f-8738-993b786780ba",
   "metadata": {},
   "source": [
    "# Write your solution to Question 1 here.\n",
    "\n",
    "<b>Ans:</b>\n",
    "    \n",
    "    λ^0 = [0,-1,1,0]\n",
    "    λ^h = [[−1, 1, 0], [1, 0, −1], [0, 1, −1]]\n",
    "    x = [-1,1]\n",
    "    z^h_i = λ^h_i,0 + ∑(j= 1,2)λ^h_i,j * x_j for i = 1,2,3\n",
    "    z^o = λ^o_0 +∑(i=1 to 3) λ^o_i· reLu(z^h_i)\n",
    "    \n",
    "    z1 = reLu(-1 + (1) * (-1) + (0) * (1)) = reLu(-2) = 0\n",
    "    z2 = reLu(1 + (0) * (-1) + (-1) * (1)) = reLu(0) = 0\n",
    "    z3 = reLu(0 + (1) * (-1) + (-1) * (1)) = reLu(-2) = 0\n",
    "    \n",
    "    z^o = 0+[(0)*(-1) + (0)*(-1)+(0)*(0)] = 0\n",
    "    \n",
    "    Since we have a binary classification with 2 possible output labels, \n",
    "    we ought to use Sigmoid Activation Function.\n",
    "    \n",
    "    Our predicted output label, yCap = argmax_y σ(0)\n",
    "    or, yCap = argmax_y (0.5,0.25)\n",
    "    so, yCap = prob(0.5) in which y is yes.\n",
    "  <b> Hence, our predicted label is yes </b>\n",
    "\n",
    "\n",
    "\n"
   ]
  },
  {
   "cell_type": "markdown",
   "id": "2f2a9cbf-4c0f-4697-847e-0fecf64ab17d",
   "metadata": {},
   "source": [
    "# Write your solution to Question 2 here.\n",
    "\n",
    "<b> Ans: </b>\n",
    "    \n",
    "The original dimension/no of features of the samples/object = d\n",
    "original data = [X1, X2, . . . , Xd]\n",
    "Augmented the data with extra features log(Xn) and (Xn)^2 for n = 1,2,3,...,d\n",
    "So, augmented data = [X1, X2, . . . , Xd, log(X1), log(X2), . . . , log(Xd),(X1)^2,(X2)^2, . . . ,(Xd)^2]\n",
    "    \n",
    "<b>Dimensionality of the parameter of the model</b> :\n",
    "        \n",
    "        f(Xaug, λaug) = λ0 + λaug,1Xaug,1 + λaug,2Xaug,2 + · · ·\n",
    "    \n",
    "<b>is 3d+1</b>, as the extended model translates to \n",
    "        \n",
    "        fext(X) = λ0 +∑(i= 1 to d) (λ_1,i * X_i + λ2,i * log(X_i) + λ_3,i * (X_i)^2)\n",
    "        \n",
    "In comparison to the original model, <b> the augmented model is more flexible </b>, as this model can predict cases, where the\n",
    "test or real i/p is having features which can not be fit properly with a straight line, but maybe with a curve.\n",
    "      "
   ]
  },
  {
   "cell_type": "markdown",
   "id": "a697ec5d-d232-4a29-913d-98014c835b6b",
   "metadata": {},
   "source": [
    "# Write your solution to Question 3 here.\n",
    "\n",
    "The following code calculates the necessary values."
   ]
  },
  {
   "cell_type": "code",
   "execution_count": 2,
   "id": "e1b33846",
   "metadata": {},
   "outputs": [
    {
     "name": "stdout",
     "output_type": "stream",
     "text": [
      "Threshold List :  [0.0, 0.65, 1.6, 2.05]\n"
     ]
    }
   ],
   "source": [
    "data = [(1.2, 0), (2, 1), (0.1, 2), (2.1, 0), (-0.1, 1)]\n",
    "x_val = [1.2,2,0.1,2.1,-0.1]\n",
    "y_val = []\n",
    "x_val.sort()\n",
    "for x in x_val:\n",
    "    for d in data:\n",
    "        if x == d[0]:\n",
    "            y_val.append(d[1])\n",
    "thres_list = []\n",
    "x = len(x_val)\n",
    "for i in range(len(x_val)):\n",
    "    if i!= x-1 :\n",
    "        thres_list.append(round((x_val[i]+x_val[i+1])/2,2))\n",
    "print('Threshold List : ', thres_list)"
   ]
  },
  {
   "cell_type": "code",
   "execution_count": 3,
   "id": "46cba45d",
   "metadata": {},
   "outputs": [],
   "source": [
    "def binSplitter(thres,data):\n",
    "    bin1 = []\n",
    "    bin2 = []\n",
    "    for d in data:\n",
    "        if d <= thres:\n",
    "            bin1.append(d)\n",
    "        else:\n",
    "            bin2.append(d)\n",
    "    \n",
    "    return bin1,bin2"
   ]
  },
  {
   "cell_type": "code",
   "execution_count": 4,
   "id": "ff4322dd",
   "metadata": {},
   "outputs": [
    {
     "name": "stdout",
     "output_type": "stream",
     "text": [
      "Threshold :  0.0\n",
      "[-0.1]\n",
      "[0.1, 1.2, 2, 2.1]\n",
      "p1 :  (0.0, 1.0, 0.0)\n",
      "p2 :  (0.5, 0.25, 0.25)\n",
      "G(B1) :  0.0\n",
      "G(B2) :  0.625\n",
      "Information Gain :  0.14 \n",
      "\n",
      "Threshold :  0.65\n",
      "[-0.1, 0.1]\n",
      "[1.2, 2, 2.1]\n",
      "p1 :  (0.0, 0.5, 0.5)\n",
      "p2 :  (0.6666666666666666, 0.3333333333333333, 0.0)\n",
      "G(B1) :  0.5\n",
      "G(B2) :  0.4444444444444445\n",
      "Information Gain :  0.17 \n",
      "\n",
      "Threshold :  1.6\n",
      "[-0.1, 0.1, 1.2]\n",
      "[2, 2.1]\n",
      "p1 :  (0.3333333333333333, 0.3333333333333333, 0.3333333333333333)\n",
      "p2 :  (0.5, 0.5, 0.0)\n",
      "G(B1) :  0.6666666666666667\n",
      "G(B2) :  0.5\n",
      "Information Gain :  0.04 \n",
      "\n",
      "Threshold :  2.05\n",
      "[-0.1, 0.1, 1.2, 2]\n",
      "[2.1]\n",
      "p1 :  (0.25, 0.5, 0.25)\n",
      "p2 :  (1.0, 0.0, 0.0)\n",
      "G(B1) :  0.625\n",
      "G(B2) :  0.0\n",
      "Information Gain :  0.14 \n",
      "\n"
     ]
    }
   ],
   "source": [
    "GD = 0.64\n",
    "for t in thres_list:\n",
    "    B1,B2 = binSplitter(t,x_val)\n",
    "    print('Threshold : ', t)\n",
    "    print(B1)\n",
    "    print(B2)\n",
    "    p1_b1=0\n",
    "    p2_b1 =0\n",
    "    p3_b1 = 0\n",
    "    \n",
    "    p1_b2 =0\n",
    "    p2_b2 =0\n",
    "    p3_b2 =0\n",
    "    for b in B1:\n",
    "        label = y_val[x_val.index(b)]\n",
    "        if label == 0:\n",
    "            p1_b1 = p1_b1 + 1\n",
    "        elif label == 1:\n",
    "            p2_b1 = p2_b1 + 1\n",
    "        else:\n",
    "            p3_b1 = p3_b1 + 1\n",
    "    \n",
    "    for b in B2:\n",
    "        label = y_val[x_val.index(b)]\n",
    "        if label == 0:\n",
    "            p1_b2 = p1_b2 + 1\n",
    "        elif label == 1:\n",
    "            p2_b2 = p2_b2 + 1\n",
    "        else:\n",
    "            p3_b2 = p3_b2 + 1\n",
    "        \n",
    "    p1 = (p1_b1/len(B1),p2_b1/len(B1),p3_b1/len(B1))\n",
    "    p2 = (p1_b2/len(B2),p2_b2/len(B2),p3_b2/len(B2))\n",
    "    \n",
    "    print ('p1 : ', p1)\n",
    "    print('p2 : ', p2)\n",
    "    \n",
    "    GB1 = 0\n",
    "    GB2 = 0\n",
    "    for p in p1:\n",
    "        GB1 = GB1 + (p*(1-p))\n",
    "    \n",
    "    for p in p2:\n",
    "        GB2 = GB2 + (p*(1-p))\n",
    "        \n",
    "    print('G(B1) : ', GB1)\n",
    "    print('G(B2) : ', GB2,)\n",
    "    \n",
    "    I = GD - 1/len(x_val)*(len(B1)*GB1 + len(B2)*GB2)\n",
    "    print('Information Gain : ', round(I,2),'\\n')\n",
    "    "
   ]
  },
  {
   "cell_type": "markdown",
   "id": "89181614",
   "metadata": {},
   "source": [
    "Impurity of the dataset = 0.64 [pD = (2/5,2/5,1/5)]\n",
    "1. For case 1, the Gini Impurity of B1 = 0, and B2 = .625. So, information gain = 0.14\n",
    "2. For case 2, the Gini Impurity of B1 = 0.5, and B2 = .44. So, information gain = 0.17\n",
    "3. For case 3, the Gini Impurity of B1 = 0, and B2 = .625. So, information gain = 0.04\n",
    "4. For case 4, the Gini Impurity of B1 = 0, and B2 = .625. So, information gain =  0.14\n",
    "\n",
    "So, <b> the best binary split is {[(-0.1,1), (0.1,2)],[(1.2,0), (2,1), (2.1,0)]}. The threshold for split is 0.65 </b> "
   ]
  },
  {
   "cell_type": "markdown",
   "id": "f26b9a72",
   "metadata": {},
   "source": [
    "The test sample 1.1 falls in the 2nd bin as 1.1 > 0.65. The possible labels are 0 and 1.\n",
    "\n",
    "1. By Bayes' Classification Method,\n",
    "\n",
    "y_pred = arg_max{Prob(Y = i|X = x)}\n",
    "y_pred = 0\n",
    "\n",
    "2. By KNN, for K = 1 or 3,\n",
    "\n",
    "y_pred = 0 ( for K=1, nearest neighbour is 1.2 and for K=3, majority is 0, so 0 wins)\n",
    "\n",
    "so <b> our predicted label for 1.1 is 0. </b>"
   ]
  },
  {
   "cell_type": "markdown",
   "id": "d6df7ac9-68ca-489f-853d-f55d3df597d4",
   "metadata": {},
   "source": [
    "The following code snippet generates a random number, which is used as $p$ in Question 4(a)."
   ]
  },
  {
   "cell_type": "code",
   "execution_count": 5,
   "id": "00a2b186-0ea2-415a-8d3b-5b3d7e71295a",
   "metadata": {},
   "outputs": [
    {
     "name": "stdout",
     "output_type": "stream",
     "text": [
      "The value of p you should use is 4335\n"
     ]
    }
   ],
   "source": [
    "p = random.randrange(2000,6001)\n",
    "print( \"The value of p you should use is\", p )"
   ]
  },
  {
   "cell_type": "markdown",
   "id": "35ef253e-c925-4ff8-a0d4-a64dfc6f0113",
   "metadata": {},
   "source": [
    "# Write your solution to Question 4(a) here.\n",
    "\n",
    "For random forest, we consider sqrt(p) attributes at each node. If sqrt(p) is <b> not an integer, we round up </b> \n",
    "\n",
    "So in our case, the total attributes sampled at each node is given by the following code snippet"
   ]
  },
  {
   "cell_type": "code",
   "execution_count": 6,
   "id": "433d5e23",
   "metadata": {},
   "outputs": [
    {
     "name": "stdout",
     "output_type": "stream",
     "text": [
      "In each node of each decision tree,  66  attributes should be sampled.\n"
     ]
    }
   ],
   "source": [
    "p_node = int(pow(p,0.5)) + 1\n",
    "\n",
    "print( 'In each node of each decision tree, ', p_node,' attributes should be sampled.')"
   ]
  },
  {
   "cell_type": "markdown",
   "id": "a9b79994-d72b-4665-8da4-d4237506bd78",
   "metadata": {},
   "source": [
    "# Write your solution to Question 4(b) here.\n",
    "\n",
    "The formula for a particular datapoint is chosen as the sample in a BTS, where only n datapoints are used with replacement is :\n",
    "                                        \n",
    "                                        1 - (1-1/n)^n\n",
    "\n",
    "when 2n datapoints are chosen with replacement, the formula becomes :\n",
    "                                        \n",
    "                                        1 - (1 - 1/n)^2n\n",
    "\n",
    "when n = 500, the chance for a datapoint to be selected is : 0.8649 or 86.49%"
   ]
  },
  {
   "cell_type": "markdown",
   "id": "fb2cdc29-148f-460f-9cef-d5cf28ce5a48",
   "metadata": {},
   "source": [
    "# Write your solution to Question 4(c) here.\n",
    "\n",
    "\"Boosting is an ensemble learning method that combines a set of weak learners into a strong learner to minimize training errors. In boosting, a random sample of data is selected, fitted with a model and then trained sequentially—that is, each model tries to compensate for the weaknesses of its predecessor.\" - IBM Cloud Education\n",
    "(https://www.ibm.com/cloud/learn/boosting#:~:text=Boosting%20is%20an%20ensemble%20learning,the%20weaknesses%20of%20its%20predecessor.)\n",
    "\n",
    "KNN is not considered to be a weak learner, as it already kind of fucntions by taking a vote. Consecutive iterations on same data for KNN improves/changes the performance of the model by little to no margin. Hence, boosting is mostly ineffective when used with KNN.\n",
    "\n",
    "\"Ensemble methods rely on the instability of the classifiers to improve their performance, as k-NN is\n",
    "fairly stable with respect to resampling, these methods fail in their attempt to improve the performance\n",
    "of k-NN classifier.\" - Nicolás García-Pedrajas *, Domingo Ortiz-Boyer (http://www.stat.yale.edu/~lc436/papers/KNN/Garcia-Pedrajas_2009.pdf)"
   ]
  },
  {
   "cell_type": "markdown",
   "id": "c6d04fdb-636d-4c2a-a761-8bd5e18ed546",
   "metadata": {},
   "source": [
    "# The following code snippet is for Question 5(a). It generates 8 random datapoints in $\\mathbb{R}^2$, and puts them into three clusters initially."
   ]
  },
  {
   "cell_type": "code",
   "execution_count": 7,
   "id": "1f57c713-a98c-404a-b7df-e10620a2afdc",
   "metadata": {},
   "outputs": [
    {
     "name": "stdout",
     "output_type": "stream",
     "text": [
      "(3, 12) is in Cluster 2\n",
      "(20, 17) is in Cluster 3\n",
      "(8, 8) is in Cluster 1\n",
      "(11, 14) is in Cluster 2\n",
      "(10, 9) is in Cluster 2\n",
      "(6, 10) is in Cluster 2\n",
      "(8, 3) is in Cluster 3\n"
     ]
    }
   ],
   "source": [
    "clusters = [1,2,2,2,2,3,3]\n",
    "random.shuffle(clusters)\n",
    "for i in range(7):\n",
    "    print( (random.randrange(0,21), random.randrange(0,21)), \"is in Cluster\", clusters[i] )"
   ]
  },
  {
   "cell_type": "markdown",
   "id": "39b1d923-b24a-4a7e-8ef6-0efdaa7ed52d",
   "metadata": {},
   "source": [
    "# Write your solution to Question 5(a) here.\n",
    "\n",
    "The following code snippet runs K-Means on the data for 2 iterations\n"
   ]
  },
  {
   "cell_type": "code",
   "execution_count": 8,
   "id": "34e63a3c",
   "metadata": {},
   "outputs": [],
   "source": [
    "def centCal(cluster):\n",
    "    x = 0\n",
    "    y = 0\n",
    "\n",
    "    for val in cluster:\n",
    "        x = x + val[0]\n",
    "        y = y + val[1]\n",
    "\n",
    "    return x/len(cluster), y/len(cluster)"
   ]
  },
  {
   "cell_type": "code",
   "execution_count": 9,
   "id": "2270d4d4",
   "metadata": {},
   "outputs": [],
   "source": [
    "def distancexy(point1, point2):\n",
    "    # write the content of this function\n",
    "    # returns a number which is the Euclidean distance between the two points\n",
    "    x_diff = point1[0]-point2[0]\n",
    "    y_diff = point1[1]-point2[1]\n",
    "    SumSqDiff = pow(x_diff,2) + pow(y_diff,2)\n",
    "    return pow(SumSqDiff,0.5)"
   ]
  },
  {
   "cell_type": "code",
   "execution_count": 10,
   "id": "3c162fc2",
   "metadata": {},
   "outputs": [
    {
     "name": "stdout",
     "output_type": "stream",
     "text": [
      "Data in R2 and Clusters :  [(3, 16, 2), (12, 15, 2), (0, 15, 2), (16, 5, 3), (15, 9, 3), (18, 14, 2), (17, 18, 1)]\n"
     ]
    }
   ],
   "source": [
    "clusters = [1,2,2,2,2,3,3]\n",
    "random.shuffle(clusters)\n",
    "data = []\n",
    "for i in range(7):\n",
    "    d = []\n",
    "    d.append(random.randrange(0,21))\n",
    "    d.append(random.randrange(0,21))\n",
    "    d.append(clusters[i])\n",
    "    d = tuple(d)\n",
    "    data.append(d)\n",
    "    \n",
    "print('Data in R2 and Clusters : ', data)"
   ]
  },
  {
   "cell_type": "code",
   "execution_count": 11,
   "id": "1ac08fd9",
   "metadata": {},
   "outputs": [
    {
     "name": "stdout",
     "output_type": "stream",
     "text": [
      "============================================================================================\n",
      "                                   ITERATION :  1\n",
      "============================================================================================\n",
      "\n",
      "Initial Centroid for Cluster 1  is  (17.0, 18.0)\n",
      "Initial Centroid for Cluster 2  is  (8.25, 15.0)\n",
      "Initial Centroid for Cluster 3  is  (15.5, 7.0)\n",
      "After  1  iteration, Cluster 1 is :  [(17, 18), (18, 14)]\n",
      "After  1  iteration, Cluster 2 is :  [(3, 16), (12, 15), (0, 15)]\n",
      "After  1  iteration, Cluster 3 is :  [(16, 5), (15, 9)]\n",
      "============================================================================================\n",
      "                                   ITERATION :  2\n",
      "============================================================================================\n",
      "\n",
      "Initial Centroid for Cluster 1  is  (17.5, 16.0)\n",
      "Initial Centroid for Cluster 2  is  (5.0, 15.333333333333334)\n",
      "Initial Centroid for Cluster 3  is  (15.5, 7.0)\n",
      "After  2  iteration, Cluster 1 is :  [(17, 18), (18, 14), (12, 15)]\n",
      "After  2  iteration, Cluster 2 is :  [(3, 16), (0, 15)]\n",
      "After  2  iteration, Cluster 3 is :  [(16, 5), (15, 9)]\n"
     ]
    }
   ],
   "source": [
    "clust1 = []\n",
    "clust2 = []\n",
    "clust3 = []\n",
    "for d in data:\n",
    "        if d[2] == 1:\n",
    "            clust1.append((d[0],d[1]))\n",
    "        elif d[2] == 2:\n",
    "            clust2.append((d[0],d[1]))\n",
    "        else:\n",
    "            clust3.append((d[0],d[1]))\n",
    "\n",
    "clustList = [clust1,clust2,clust3]\n",
    "\n",
    "\n",
    "for m in range (2):\n",
    "    print('============================================================================================')\n",
    "    print('                                   ITERATION : ', m+1)\n",
    "    print('============================================================================================\\n')\n",
    "\n",
    "\n",
    "\n",
    "\n",
    "\n",
    "    centroidList = []\n",
    "\n",
    "    for i in range(len(clustList)):\n",
    "        centx,centy = centCal(clustList[i])\n",
    "        centroidList.append((centx,centy))\n",
    "        print ('Initial Centroid for Cluster',i+1,' is ', (centx,centy))\n",
    "    \n",
    "    minClust1 = []\n",
    "    for val in clust1:\n",
    "        dist =  9999999999\n",
    "        k = 0\n",
    "        for c in centroidList:\n",
    "            d = distancexy(c,val)\n",
    "            if d < dist :\n",
    "                dist = d\n",
    "                k = centroidList.index(c)\n",
    "        minClust1.append(k+1)\n",
    "\n",
    "    minClust2 = []\n",
    "    for val in clust2:\n",
    "        dist =  9999999999\n",
    "        k = 0\n",
    "        for c in centroidList:\n",
    "            d = distancexy(c,val)\n",
    "            if d < dist :\n",
    "                dist = d\n",
    "                k = centroidList.index(c)\n",
    "        minClust2.append(k+1)\n",
    "    \n",
    "    minClust3 = []\n",
    "    for val in clust3:\n",
    "        dist =  9999999999\n",
    "        k = 0\n",
    "        for c in centroidList:\n",
    "            d = distancexy(c,val)\n",
    "            if d < dist :\n",
    "                dist = d\n",
    "                k = centroidList.index(c)\n",
    "        minClust3.append(k+1)\n",
    "\n",
    "    for i in range(len(clust1)):\n",
    "        if minClust1[i]!=1:\n",
    "            if minClust1[i] == 2:\n",
    "                clust2.append(clust1[i])\n",
    "                clust1.remove(clust1[i])\n",
    "            if  minClust1[i] == 3:\n",
    "                clust3.append(clust1[i])\n",
    "                clust1.remove(clust1[i])\n",
    "\n",
    "    for i in range(len(clust2)):\n",
    "        if minClust2[i]!=2:\n",
    "            if minClust2[i] == 1:\n",
    "                clust1.append(clust2[i])\n",
    "                clust2.remove(clust2[i])\n",
    "            if minClust2[i] == 3:\n",
    "                clust3.append(clust2[i])\n",
    "                clust2.remove(clust2[i])\n",
    "\n",
    "    for i in range(len(clust3)):\n",
    "        if minClust3[i]!=3:\n",
    "            if minClust3[i] == 1:\n",
    "                clust1.append(clust3[i])\n",
    "                clust3.remove(clust3[i])\n",
    "            if minClust3[i] == 2:\n",
    "                clust2.append(clust3[i])\n",
    "                clust3.remove(clust3[i])\n",
    "\n",
    "    print ('After ',m+1,' iteration, Cluster 1 is : ', clust1)            \n",
    "    print ('After ',m+1,' iteration, Cluster 2 is : ', clust2)\n",
    "    print ('After ',m+1,' iteration, Cluster 3 is : ', clust3)\n",
    "               "
   ]
  },
  {
   "cell_type": "markdown",
   "id": "1b3cc43a-2afe-4bcc-966e-ccf3227e4d0e",
   "metadata": {},
   "source": [
    "# Write your solution to Question 5(b) here.\n",
    "\n",
    "Single Linkage clusters are formed when 2 separate clusters closest points are close enough to form a cluster. So a single cluster tends to spread all over the database like a contagion. Even observations which are far apart from each other in space can end up becoming a part of the same clusters in a few iterations.\n",
    "\n",
    "By 'bias' , it means that instead of accounting for centroid or other measure of the clusters, single linkage simply takes into account the 2 closest points of 2 clusters. Which means that instead of respecting all the features in the model, the model is much more simplified and not robust or generalized at all. Any incoming test point has a high chance of being placed in the large cluster.\n",
    "\n",
    "So often single linkage method will <b> create a single large cluster, which creates a decision boundary that is very detailed and tries to account for majority of the datapoints, instead of generalizing properly.</b> Hence, the Single Linkage in AHC causes bias.\n"
   ]
  },
  {
   "cell_type": "markdown",
   "id": "6c0e4666-37b3-4de1-86d3-2539f631eb9e",
   "metadata": {
    "tags": []
   },
   "source": [
    "# Practical Part (60 Marks)"
   ]
  },
  {
   "cell_type": "markdown",
   "id": "721029f4",
   "metadata": {},
   "source": [
    "# Write your code for Task 1 here"
   ]
  },
  {
   "cell_type": "code",
   "execution_count": 12,
   "id": "40efc6ff-6419-4363-8e5a-63ae26d46c1f",
   "metadata": {},
   "outputs": [],
   "source": [
    "datapoints = []\n",
    "for val in range (100):\n",
    "    x1 = random.uniform(-50, 50)\n",
    "    y1 = random.uniform(-50, 50)\n",
    "    z1 = random.uniform(-50, 50)\n",
    "    datapoints.append((int(x1),int(y1),int(z1)))\n",
    "    \n",
    "datapoints6 = []\n",
    "for val in range (6):\n",
    "    x1 = random.uniform(-50, 50)\n",
    "    y1 = random.uniform(-50, 50)\n",
    "    z1 = random.uniform(-50, 50)\n",
    "    datapoints6.append((int(x1),int(y1),int(z1)))"
   ]
  },
  {
   "cell_type": "markdown",
   "id": "8916c2ea",
   "metadata": {},
   "source": [
    "# Write your code for Task 2 here"
   ]
  },
  {
   "cell_type": "code",
   "execution_count": 13,
   "id": "54c651fd-91fc-4f1b-834b-009de9f2435b",
   "metadata": {},
   "outputs": [],
   "source": [
    "def distance(point1, point2):\n",
    "    # write the content of this function\n",
    "    # returns a number which is the Euclidean distance between the two points\n",
    "    x_diff = point1[0]-point2[0]\n",
    "    y_diff = point1[1]-point2[1]\n",
    "    z_diff = point1[2]-point2[2]\n",
    "    SumSqDiff = pow(x_diff,2) + pow(y_diff,2) + pow(z_diff,2)\n",
    "    return pow(SumSqDiff,0.5)"
   ]
  },
  {
   "cell_type": "markdown",
   "id": "604cd420",
   "metadata": {},
   "source": [
    "# Write your code for Task 3 here;"
   ]
  },
  {
   "cell_type": "code",
   "execution_count": 14,
   "id": "3545dbc2-21cf-4bde-8b80-5874928061d1",
   "metadata": {},
   "outputs": [],
   "source": [
    "class singleNode:\n",
    "    def __init__(self, x):\n",
    "        # write the content of the constructor here; this constructor is used to initalize the single-point clusters in AHC\n",
    "        self.cluster = [x]\n",
    "        self.height = 0\n",
    "        self.leftChild = None\n",
    "        self.rightChild = None\n",
    "    \n",
    "    def getCluster(self):\n",
    "        return self.cluster\n",
    "    \n",
    "    def getHeight(self):\n",
    "        return self.height\n",
    "    \n",
    "    def __str__(self):\n",
    "        return 'Clusters : ' + str(self.cluster) + ' Height : ' + str(self.height) \n",
    "\n",
    "class Node(singleNode):\n",
    "    def __init__(self, x):\n",
    "        # write the content of the constructor here; this constructor is used to initalize the single-point clusters in AHC\n",
    "        self.cluster = x\n",
    "    \n",
    "    def setCluster(self,cluster1,cluster2):\n",
    "        self.cluster = []\n",
    "        self.cluster.append(cluster1)\n",
    "        self.cluster.append(cluster2)\n",
    "    \n",
    "    def getCluster(self):\n",
    "        return self.cluster\n",
    "    \n",
    "    def setHeight(self,h):\n",
    "        self.height = h\n",
    "    \n",
    "    def getHeight(self):\n",
    "        return self.height\n",
    "    \n",
    "    def setleftChild(self,lC):\n",
    "        self.leftChild = lC\n",
    "    \n",
    "    def getleftChild(self):\n",
    "        return self.leftChild\n",
    "    \n",
    "    def setrightChild(self, rC):\n",
    "        self.rightChild = rC\n",
    "        \n",
    "    def getrightChild(self):\n",
    "        return self.rightChild\n",
    "    \n",
    "    def __str__(self):\n",
    "        return 'Clusters : ' + str(self.cluster) + ' Height : ' + str(self.height) \n",
    "\n",
    "currentClusters = []\n",
    "for i in range(100):\n",
    "    tempNode = Node(datapoints[i])\n",
    "    currentClusters.append(tempNode)"
   ]
  },
  {
   "cell_type": "markdown",
   "id": "d76280df",
   "metadata": {},
   "source": [
    "# Write your code for Task 4 here"
   ]
  },
  {
   "cell_type": "code",
   "execution_count": 15,
   "id": "5155a284-bc14-42d4-b655-a81a8a93dc3e",
   "metadata": {},
   "outputs": [],
   "source": [
    "def singleLinkage(node1, node2):\n",
    "    # write the content of this function\n",
    "    # returns a number which is the single linkage between the two clusters in the two nodes\n",
    "    Linkage = []\n",
    "    node_1 = node1.getCluster()\n",
    "    node_2 = node2.getCluster()\n",
    "    for i in node_1:\n",
    "        for j in node_2:\n",
    "            Linkage.append(distance(i,j))\n",
    "    \n",
    "    return min(Linkage)\n",
    "\n",
    "def completeLinkage(node1, node2):\n",
    "    # complete linkage\n",
    "    Linkage = []\n",
    "    node_1 = node1.getCluster()\n",
    "    node_2 = node2.getCluster()\n",
    "    for i in node_1:\n",
    "        for j in node_2:\n",
    "            Linkage.append(distance(i,j))\n",
    "    \n",
    "    return max(Linkage)\n",
    "\n",
    "def averageLinkage(node1, node2):\n",
    "    # average linkage\n",
    "    Linkage = []\n",
    "    node_1 = node1.getCluster()\n",
    "    node_2 = node2.getCluster()\n",
    "    for i in node_1:\n",
    "        for j in node_2:\n",
    "            Linkage.append(distance(i,j))\n",
    "    \n",
    "    return (sum(Linkage)/len(Linkage))\n",
    "\n",
    "\n",
    "def centroidLinkage(node1, node2):\n",
    "    # centroid linkage\n",
    "    x_sum_node1 = 0\n",
    "    y_sum_node1 = 0\n",
    "    z_sum_node1 = 0\n",
    "    node_1 = node1.getCluster()\n",
    "    for val in range(len(node_1)):\n",
    "        x_sum_node1 = x_sum_node1 + node_1[val][0]\n",
    "        y_sum_node1 = y_sum_node1 + node_1[val][1]\n",
    "        z_sum_node1 = z_sum_node1 + node_1[val][2]\n",
    "    \n",
    "    node1_centroid = (x_sum_node1/len(node_1),y_sum_node1/len(node_1),z_sum_node1/len(node_1))\n",
    "    \n",
    "    x_sum_node2 = 0\n",
    "    y_sum_node2 = 0\n",
    "    z_sum_node2 = 0\n",
    "    node_2 = node2.getCluster()\n",
    "    for val in range(len(node_2)):\n",
    "        x_sum_node2 = x_sum_node2 + node_2[val][0]\n",
    "        y_sum_node2 = y_sum_node2 + node_2[val][1]\n",
    "        z_sum_node2 = z_sum_node2 + node_2[val][2]\n",
    "    \n",
    "    node2_centroid = (x_sum_node2/len(node_2),y_sum_node2/len(node_2),z_sum_node2/len(node_2))\n",
    "    \n",
    "    return distance(node1_centroid,node2_centroid)"
   ]
  },
  {
   "cell_type": "markdown",
   "id": "79e04aa9",
   "metadata": {},
   "source": [
    "# Write your code for Task 5 here"
   ]
  },
  {
   "cell_type": "code",
   "execution_count": 16,
   "id": "749a1ef5-a766-4730-a800-9abcb4e9a252",
   "metadata": {},
   "outputs": [],
   "source": [
    "def clustersToMerge(currentClusters, linkage): # when this function is used, linkage should be one of the four linkage functions you implemented for Task 4\n",
    "    # write the content of this function\n",
    "    # returns a tuple (i,j,h) which indicates that the i-th and j-th nodes should be merged next \\\n",
    "    # \\to form a new Node with height h\n",
    "    Linkvals = []\n",
    "    nodePairs = []\n",
    "    for i in range(len(currentClusters)):\n",
    "        for j in range (i+1, len(currentClusters)):\n",
    "            Linkvals.append(linkage(currentClusters[i],currentClusters[j]))\n",
    "            nodePairs.append((currentClusters[i],currentClusters[j]))\n",
    "    height = min(Linkvals)\n",
    "    nodeTup = nodePairs[Linkvals.index(height)]\n",
    "    return nodeTup[0],nodeTup[1],height"
   ]
  },
  {
   "cell_type": "markdown",
   "id": "7c4fac2f",
   "metadata": {},
   "source": [
    "# Write your code for Task 6 here"
   ]
  },
  {
   "cell_type": "code",
   "execution_count": 17,
   "id": "7a485dc1-57c7-4e0b-b3fe-6d4717b36e8a",
   "metadata": {},
   "outputs": [],
   "source": [
    "def ahc(datapoints, linkage):\n",
    "    # write the content of this function\n",
    "    # returns the root node of the AHC tree\n",
    "    currentClusters = []\n",
    "    for i in range(len(datapoints)):\n",
    "        tempNode = singleNode(datapoints[i])\n",
    "        currentClusters.append(tempNode)\n",
    "    \n",
    "    while (len(currentClusters) > 1):\n",
    "        i, j, h = clustersToMerge(currentClusters,linkage)\n",
    "        currentClusters.remove(i)\n",
    "        currentClusters.remove(j)\n",
    "        \n",
    "        combined = i.getCluster() + j.getCluster()\n",
    "        clust = Node(combined)\n",
    "        clust.setHeight(h)\n",
    "        clust.setleftChild(i)\n",
    "        clust.setrightChild(j)\n",
    "        currentClusters.append(clust)\n",
    "        \n",
    "        \n",
    "    return currentClusters[0]\n"
   ]
  },
  {
   "cell_type": "markdown",
   "id": "af77d85a",
   "metadata": {},
   "source": [
    "# Write your code for Task 7 here"
   ]
  },
  {
   "cell_type": "code",
   "execution_count": 18,
   "id": "0cdc4a79-e75d-451b-a88f-c6fc4e3ce72f",
   "metadata": {},
   "outputs": [],
   "source": [
    "def cutTree(rootNode, k):\n",
    "     # write the content of this function\n",
    "     # returns the k clusters obtained by cutting the AHC tree at an appropriate height\n",
    "    if k == 1:\n",
    "        return rootNode\n",
    "    else:\n",
    "        currCluster = [rootNode]\n",
    "        while (len(currCluster) < k):\n",
    "            heightList = []\n",
    "            \n",
    "            for i in range(len(currCluster)):\n",
    "                heightList.append(currCluster[i].getHeight())\n",
    "            \n",
    "            splitThis = currCluster[heightList.index(max(heightList))]\n",
    "            currCluster.append(splitThis.getleftChild())\n",
    "            currCluster.append(splitThis.getrightChild())\n",
    "            currCluster.remove(splitThis)\n",
    "            \n",
    "        return currCluster"
   ]
  },
  {
   "cell_type": "markdown",
   "id": "24f98959",
   "metadata": {},
   "source": [
    "# Write your code for generating the plots here"
   ]
  },
  {
   "cell_type": "code",
   "execution_count": 19,
   "id": "234e9e57",
   "metadata": {},
   "outputs": [
    {
     "data": {
      "image/png": "[encoded data removed]",
      "text/plain": [
       "<Figure size 432x288 with 1 Axes>"
      ]
     },
     "metadata": {
      "needs_background": "light"
     },
     "output_type": "display_data"
    }
   ],
   "source": [
    "from mpl_toolkits.mplot3d import Axes3D\n",
    "\n",
    "fig = plt.figure()\n",
    "ax = fig.add_subplot(111, projection='3d')\n",
    "\n",
    "c = 1\n",
    "\n",
    "cut5 = cutTree(ahc(datapoints, completeLinkage), 5)\n",
    "for val in cut5:\n",
    "    lbl = []\n",
    "    k = 'Cluster' + str(c)\n",
    "    c = c + 1\n",
    "    lbl.append (k)\n",
    "    l = val.getCluster()\n",
    "    xs = []\n",
    "    ys = []\n",
    "    zs = []\n",
    "    \n",
    "    for i in l:\n",
    "\n",
    "        xs.append(i[0])\n",
    "        ys.append(i[1])\n",
    "        zs.append(i[2])\n",
    "    ax.scatter(xs,ys,zs,label = k)\n",
    "    ax._get_lines.get_next_color()\n",
    "\n",
    "ax.set_xlabel('X Axis')\n",
    "ax.set_ylabel('Y Axis')\n",
    "ax.set_zlabel('Z Axis')\n",
    "\n",
    "plt.title('Complete Linkage')\n",
    "plt.legend()\n",
    "plt.show()"
   ]
  },
  {
   "cell_type": "code",
   "execution_count": 20,
   "id": "cf547823",
   "metadata": {},
   "outputs": [
    {
     "data": {
      "image/png": "[encoded data removed]",
      "text/plain": [
       "<Figure size 432x288 with 1 Axes>"
      ]
     },
     "metadata": {
      "needs_background": "light"
     },
     "output_type": "display_data"
    }
   ],
   "source": [
    "fig = plt.figure()\n",
    "ax = fig.add_subplot(111, projection='3d')\n",
    "\n",
    "c = 1\n",
    "\n",
    "cut5 = cutTree(ahc(datapoints, centroidLinkage), 5)\n",
    "for val in cut5:\n",
    "    lbl = []\n",
    "    k = 'Cluster' + str(c)\n",
    "    c = c + 1\n",
    "    lbl.append (k)\n",
    "    l = val.getCluster()\n",
    "    xs = []\n",
    "    ys = []\n",
    "    zs = []\n",
    "    \n",
    "    for i in l:\n",
    "\n",
    "        xs.append(i[0])\n",
    "        ys.append(i[1])\n",
    "        zs.append(i[2])\n",
    "    ax.scatter(xs,ys,zs,label = k)\n",
    "    ax._get_lines.get_next_color()\n",
    "\n",
    "ax.set_xlabel('X Axis')\n",
    "ax.set_ylabel('Y Axis')\n",
    "ax.set_zlabel('Z Axis')\n",
    "\n",
    "plt.title('Centroid Linkage')\n",
    "plt.legend()\n",
    "plt.show()"
   ]
  },
  {
   "cell_type": "code",
   "execution_count": 21,
   "id": "ff3ae1f7",
   "metadata": {},
   "outputs": [
    {
     "data": {
      "image/png": "[encoded data removed]",
      "text/plain": [
       "<Figure size 432x288 with 1 Axes>"
      ]
     },
     "metadata": {
      "needs_background": "light"
     },
     "output_type": "display_data"
    }
   ],
   "source": [
    "fig = plt.figure()\n",
    "ax = fig.add_subplot(111, projection='3d')\n",
    "\n",
    "c = 1\n",
    "\n",
    "cut5 = cutTree(ahc(datapoints, averageLinkage), 5)\n",
    "for val in cut5:\n",
    "    lbl = []\n",
    "    k = 'Cluster' + str(c)\n",
    "    c = c + 1\n",
    "    lbl.append (k)\n",
    "    l = val.getCluster()\n",
    "    xs = []\n",
    "    ys = []\n",
    "    zs = []\n",
    "    \n",
    "    for i in l:\n",
    "\n",
    "        xs.append(i[0])\n",
    "        ys.append(i[1])\n",
    "        zs.append(i[2])\n",
    "    ax.scatter(xs,ys,zs,label = k)\n",
    "    ax._get_lines.get_next_color()\n",
    "\n",
    "ax.set_xlabel('X Axis')\n",
    "ax.set_ylabel('Y Axis')\n",
    "ax.set_zlabel('Z Axis')\n",
    "\n",
    "plt.title('Average Linkage')\n",
    "plt.legend()\n",
    "plt.show()"
   ]
  },
  {
   "cell_type": "code",
   "execution_count": 22,
   "id": "3689d4b1",
   "metadata": {},
   "outputs": [
    {
     "data": {
      "image/png": "[encoded data removed]",
      "text/plain": [
       "<Figure size 432x288 with 1 Axes>"
      ]
     },
     "metadata": {
      "needs_background": "light"
     },
     "output_type": "display_data"
    }
   ],
   "source": [
    "fig = plt.figure()\n",
    "ax = fig.add_subplot(111, projection='3d')\n",
    "\n",
    "c = 1\n",
    "\n",
    "cut5 = cutTree(ahc(datapoints, singleLinkage), 5)\n",
    "for val in cut5:\n",
    "    lbl = []\n",
    "    k = 'Cluster' + str(c)\n",
    "    c = c + 1\n",
    "    lbl.append (k)\n",
    "    l = val.getCluster()\n",
    "    xs = []\n",
    "    ys = []\n",
    "    zs = []\n",
    "    \n",
    "    for i in l:\n",
    "\n",
    "        xs.append(i[0])\n",
    "        ys.append(i[1])\n",
    "        zs.append(i[2])\n",
    "    ax.scatter(xs,ys,zs,label = k)\n",
    "    ax._get_lines.get_next_color()\n",
    "\n",
    "ax.set_xlabel('X Axis')\n",
    "ax.set_ylabel('Y Axis')\n",
    "ax.set_zlabel('Z Axis')\n",
    "\n",
    "plt.title('Single Linkage')\n",
    "plt.legend()\n",
    "plt.show()"
   ]
  },
  {
   "cell_type": "markdown",
   "id": "023bde9a-0641-4e96-8b89-d3dfd22ef9b5",
   "metadata": {},
   "source": [
    "# Write your observations from Task 7 here."
   ]
  },
  {
   "cell_type": "markdown",
   "id": "61ce6ae7",
   "metadata": {},
   "source": [
    "From the plots it is obvious that apart from Single Linkage, all the other linkages provide proper representation for all the 5 clusters formed. \n",
    "1. Average Linkage seems to place more points in Cluster 4.\n",
    "2. Complete Linkage seems to have the most equal representation of all the cluster out of all 4 Linkages.\n",
    "3. Centroid seems to create larger clusters 3 and 5, w.r.t the other clusters.\n",
    "4. In case of Single Linkage, Cluster 5 seems to completely overwhelm the entire AHC. This creates a biased model, i.e a model that is biased towards a particular cluster."
   ]
  }
 ],
 "metadata": {
  "kernelspec": {
   "display_name": "Python 3 (ipykernel)",
   "language": "python",
   "name": "python3"
  },
  "language_info": {
   "codemirror_mode": {
    "name": "ipython",
    "version": 3
   },
   "file_extension": ".py",
   "mimetype": "text/x-python",
   "name": "python",
   "nbconvert_exporter": "python",
   "pygments_lexer": "ipython3",
   "version": "3.9.12"
  }
 },
 "nbformat": 4,
 "nbformat_minor": 5
}
